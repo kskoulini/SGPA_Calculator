{
 "cells": [
  {
   "cell_type": "markdown",
   "metadata": {},
   "source": [
    "# Creating A Main Window with tkinter.Tk()"
   ]
  },
  {
   "cell_type": "markdown",
   "metadata": {},
   "source": [
    "<b>Tkinter is Python's de-facto standard GUI (Graphical User Interface) package. It is a thin object-oriented layer on top of Tcl/Tk. \n",
    "Tkinter is not the only GuiProgramming toolkit for Python. It is however the most commonly used one. CameronLaird calls the yearly decision to keep TkInter \"one of the minor traditions of the Python world.\" </b>\n"
   ]
  },
  {
   "cell_type": "markdown",
   "metadata": {},
   "source": [
    "Tkinter is a powerful and yet simple to use module that allows you to create well put together projects by simply learning some of the basics. In this notebook you are going to learn how to start your tkinter project using the tkinter.Tk() function"
   ]
  },
  {
   "cell_type": "markdown",
   "metadata": {},
   "source": [
    "### What is Tk() in tkinter?"
   ]
  },
  {
   "cell_type": "markdown",
   "metadata": {},
   "source": [
    "In simply terms Tk() is used to create a main/root window  upon which the various widgets such as buttons, labels, text boxes etc that you will create will go onto.\n",
    "\n",
    "Tkinter works by starting a tcl/tk interpreter under the covers, and then translating tkinter commands into tcl/tk commands. The main window and this interpreter are intrinsically linked, and both are required for a tkinter application to work. \n",
    "Creating an instance of Tk initializes this interpreter and creates the root window. "
   ]
  },
  {
   "cell_type": "markdown",
   "metadata": {},
   "source": [
    "### Importing tkinter"
   ]
  },
  {
   "cell_type": "markdown",
   "metadata": {},
   "source": [
    "We simply import tkinter using 'import tkinter' statement, however doing so would require us to write tkinter.Tk() in each step so as to indicate under which module the function definion is. To avoid this we may choose to either say \"from tkinter import *\" or \"from tkinter import Tk\". Do note that using 'from tkinter import Tk' will import that function alone. "
   ]
  },
  {
   "cell_type": "code",
   "execution_count": 1,
   "metadata": {},
   "outputs": [],
   "source": [
    "import tkinter\n",
    "from tkinter import Tk"
   ]
  },
  {
   "cell_type": "markdown",
   "metadata": {},
   "source": [
    "###### NOTE: Incase you are using a version of pythong 2.x the tkinter module will be named Tkinter. Incase you are uing a platform other than JupyterNotebook you might have to install the tkinter seperately"
   ]
  },
  {
   "cell_type": "markdown",
   "metadata": {},
   "source": [
    "### Creating a Tk() instance"
   ]
  },
  {
   "cell_type": "code",
   "execution_count": 2,
   "metadata": {},
   "outputs": [],
   "source": [
    "root = Tk() #The mainwindow can be named anything just as any other variable. We name it root only for simplicity "
   ]
  },
  {
   "cell_type": "markdown",
   "metadata": {},
   "source": [
    "## Attributes for Tk()"
   ]
  },
  {
   "cell_type": "markdown",
   "metadata": {},
   "source": [
    "### Tk.mainloop() - What it is and why we need it"
   ]
  },
  {
   "cell_type": "markdown",
   "metadata": {},
   "source": [
    "While the above command does indeed create a mainwindow for our GUI application; the window is created, run and terminated in a fraction of a second. Too fast for us to see much less interact with. Taking the example of any simple calculator application, the window is held open until 'close' button is pressed so that we may see and interact with the interface. The window is also constantly updated with various events such as our button clicks, text being entered, radio buttons being pressed etc. \n",
    "\n",
    "In tkiner we achive Tk.mainloop(). mainloop is a block that holds the window open and constantly updates the program with events. \n",
    "\n",
    "<b>SYNTAX:</b>\n",
    "\n",
    "<'window name'>.mainloop()\n",
    "\n",
    "or \n",
    "\n",
    "Tk.mainloop('window name')"
   ]
  },
  {
   "cell_type": "markdown",
   "metadata": {},
   "source": [
    "<b>Example:</b>\n",
    "\n",
    "You can either call Tk.mainloop() and pass your root window as an argument\n",
    "\n",
    "- Tk.mainloop(root) #root is the name of our mainwindow\n",
    "\n",
    "You can also call mainloop() directly onto your mainwindow\n",
    "\n",
    "- root.mainloop()"
   ]
  },
  {
   "cell_type": "markdown",
   "metadata": {},
   "source": [
    "#### Our Window So Far"
   ]
  },
  {
   "cell_type": "code",
   "execution_count": 3,
   "metadata": {},
   "outputs": [],
   "source": [
    "root = Tk()\n",
    "root.mainloop()"
   ]
  },
  {
   "cell_type": "markdown",
   "metadata": {},
   "source": [
    "### Tk.title()"
   ]
  },
  {
   "cell_type": "markdown",
   "metadata": {},
   "source": [
    "The title attribute is called on the Tk() object and used to change the name of the window displayed in  the title bar of the mainwindow\n",
    "\n",
    "syntax:\n",
    "<'window_name'>.title(string = 'entered string')"
   ]
  },
  {
   "cell_type": "markdown",
   "metadata": {},
   "source": [
    "This may be down in two ways:\n",
    "\n",
    "- Tk.title(root, string='Hello') #root is the name of our mainwindow\n",
    "- root.title(string='hello')"
   ]
  },
  {
   "cell_type": "code",
   "execution_count": 4,
   "metadata": {},
   "outputs": [],
   "source": [
    "root = Tk()\n",
    "root.title(string='Hello')\n",
    "root.mainloop()"
   ]
  },
  {
   "cell_type": "markdown",
   "metadata": {},
   "source": [
    "### Tk.minsize()"
   ]
  },
  {
   "cell_type": "markdown",
   "metadata": {},
   "source": [
    "The minsize attribute is used to define the size of the window when it fist opens, this may be changed by the user later. It takes arguments 'height' and 'width'\n",
    "\n",
    "<b> SYNTAX: </b>\n",
    "<'window name'>.minsize(width = <'width in int'>,height = <'height in int'>)"
   ]
  },
  {
   "cell_type": "code",
   "execution_count": 5,
   "metadata": {},
   "outputs": [],
   "source": [
    "root = Tk()\n",
    "root.title(string='Hello')\n",
    "root.minsize(500,20)\n",
    "root.mainloop()"
   ]
  }
 ],
 "metadata": {
  "kernelspec": {
   "display_name": "Python 3",
   "language": "python",
   "name": "python3"
  },
  "language_info": {
   "codemirror_mode": {
    "name": "ipython",
    "version": 3
   },
   "file_extension": ".py",
   "mimetype": "text/x-python",
   "name": "python",
   "nbconvert_exporter": "python",
   "pygments_lexer": "ipython3",
   "version": "3.6.7"
  }
 },
 "nbformat": 4,
 "nbformat_minor": 2
}
