{
 "cells": [
  {
   "cell_type": "markdown",
   "metadata": {},
   "source": [
    "# Creating Labels using tkinter.Label()"
   ]
  },
  {
   "cell_type": "markdown",
   "metadata": {},
   "source": [
    "### What is Label() in tkinter?"
   ]
  },
  {
   "cell_type": "markdown",
   "metadata": {},
   "source": [
    "Simplyput, a label is used to display text or images on a window in tkinter. \n",
    "\n",
    "The Label widget is a standard Tkinter widget used to display a text or image on the screen. The label can only display text in a single font, but the text may span more than one line. In addition, one of the characters can be underlined, for example to mark a keyboard shortcut."
   ]
  },
  {
   "cell_type": "markdown",
   "metadata": {},
   "source": [
    "<b>SYNTAX:</b>\n",
    "\n",
    "<*Label_name*> = tkinter.Label(<*main_window_name*>,text='string to be displayed')"
   ]
  },
  {
   "cell_type": "markdown",
   "metadata": {},
   "source": [
    "### Importing tkinter and Label"
   ]
  },
  {
   "cell_type": "markdown",
   "metadata": {},
   "source": [
    "We simply import tkinter using 'import tkinter' statement, however doing so would require us to write tkinter.Tk() in each step so as to indicate under which module the function definion is. To avoid this we may choose to either say \"from tkinter import *\" or \"from tkinter import Label\". Do note that using 'from tkinter import Label' will import that function alone. "
   ]
  },
  {
   "cell_type": "markdown",
   "metadata": {},
   "source": [
    "###### NOTE: Incase you are using a version of pythong 2.x the tkinter module will be named Tkinter. Incase you are uing a platform other than JupyterNotebook you might have to install the tkinter seperately"
   ]
  },
  {
   "cell_type": "code",
   "execution_count": 1,
   "metadata": {},
   "outputs": [],
   "source": [
    "import tkinter\n",
    "from tkinter import Label"
   ]
  },
  {
   "cell_type": "markdown",
   "metadata": {},
   "source": [
    "### Creating a Label()\n",
    "\n",
    "lets create our mainwindow named root and add a label to it"
   ]
  },
  {
   "cell_type": "code",
   "execution_count": 4,
   "metadata": {},
   "outputs": [],
   "source": [
    "root = tkinter.Tk()\n",
    "mylabel = Label(root,text=\"hello world\")\n",
    "root.mainloop()"
   ]
  },
  {
   "cell_type": "markdown",
   "metadata": {},
   "source": [
    "As you can see, the above code does indeed create a window however there is no label on it. This is because we are yet to use the pack or gird method onto our label. You can refer our other Notebook for learning about pack or grid but in simple, either of them are used to add the Label or any Widget to our Window. We will not be going to the various arguments we can pass to pack or grid in this Notbook. \n",
    "\n",
    "<b> SYNTAX: </b>\n",
    "- <*widget variable name*>.pack()\n",
    "- <*widget variable name*>.grid()\n",
    "\n",
    "\n"
   ]
  },
  {
   "cell_type": "code",
   "execution_count": 8,
   "metadata": {},
   "outputs": [],
   "source": [
    "root = tkinter.Tk()\n",
    "mylabel = Label(root,text=\"Hello World\")\n",
    "mylabel.pack()\n",
    "root.mainloop()"
   ]
  },
  {
   "cell_type": "markdown",
   "metadata": {},
   "source": [
    "Running the above code creates a small mainwindow with a label displaying the text 'Hello World'. The window is automatically fit to the size of the label. "
   ]
  },
  {
   "cell_type": "markdown",
   "metadata": {},
   "source": [
    "### Changing height and width of the widget"
   ]
  },
  {
   "cell_type": "markdown",
   "metadata": {},
   "source": [
    "we can change the height and width of the widget using the 'height' and 'width' arguments and passing integer values for the same. "
   ]
  },
  {
   "cell_type": "code",
   "execution_count": 22,
   "metadata": {},
   "outputs": [],
   "source": [
    "root = tkinter.Tk()\n",
    "mylabel = Label(root,text=\"Hello World\",height=10,width=30)\n",
    "mylabel.pack()\n",
    "root.mainloop()"
   ]
  },
  {
   "cell_type": "markdown",
   "metadata": {},
   "source": [
    "The above code creates a bigger of width size 30 and height size 10"
   ]
  },
  {
   "cell_type": "markdown",
   "metadata": {},
   "source": [
    "### Changing the foreground and background colour. "
   ]
  },
  {
   "cell_type": "markdown",
   "metadata": {},
   "source": [
    "We can change the foreground and background colours using arguments 'fg' and 'bg'. One can pass either names of colours as a string or the hexadeciam code for colours as a string"
   ]
  },
  {
   "cell_type": "code",
   "execution_count": 20,
   "metadata": {},
   "outputs": [],
   "source": [
    "root = tkinter.Tk()\n",
    "mylabel = Label(root,text=\"Hello World\",height=10,width=30,bg='blue',fg='white')\n",
    "mylabel.pack()\n",
    "root.mainloop()"
   ]
  },
  {
   "cell_type": "markdown",
   "metadata": {},
   "source": [
    "Given above is an example of changing the foreground and background colours using their names"
   ]
  },
  {
   "cell_type": "code",
   "execution_count": 21,
   "metadata": {},
   "outputs": [],
   "source": [
    "root = tkinter.Tk()\n",
    "mylabel = Label(root,text=\"Hello World\",height=10,width=30,bg='#f3e5f3',fg='#00868b')\n",
    "mylabel.pack()\n",
    "root.mainloop()"
   ]
  },
  {
   "cell_type": "markdown",
   "metadata": {},
   "source": [
    "Above is an example of once again changing the background (bg) and foreground (fg) colours uisng the hex codes of colours. \n",
    "Here are some links for refering the hex codes of colours:\n",
    "- https://www.computerhope.com/htmcolor.htm\n",
    "- https://www.color-hex.com/\n"
   ]
  },
  {
   "cell_type": "markdown",
   "metadata": {},
   "source": [
    "### Changing the font style and font size"
   ]
  },
  {
   "cell_type": "markdown",
   "metadata": {},
   "source": [
    "we can use the <b>'font'</b> argument of a Label to change its font style and font size. We do so by passing a touple containing a maximum of three elementsto the argument. The first element is the name of the font as a string and the second element is the font size as either int or string, the third element is a string with either or all of the words 'italc','bold','overstrike' and/or 'underline. \n",
    "\n",
    "<b>EXAMPLES</b>\n",
    "- Label(root,text=\"Hello World\",font=(\"Times\")\n",
    "- Label(root,text=\"Hello World\",font=(\"Times\",24)\n",
    "- Label(root,text=\"Hello World\",font=(\"Helvetica\",3)\n",
    "- Label(root,text=\"Hello World\",font=(\"Times\",15,\"italic bold overstrike\")\n",
    "- Label(root,text=\"Hello World\",font=(\"Times\",15,\"italic underline bold\")\n",
    "- Label(root,text=\"Hello World\",font=(\"Times\",15,\"bold overstrike underline\")\n"
   ]
  },
  {
   "cell_type": "code",
   "execution_count": 62,
   "metadata": {},
   "outputs": [],
   "source": [
    "root = tkinter.Tk()\n",
    "mylabel = Label(root,text=\"Hello World\",height=10,width=30,bg='#f3e5f3',fg='#00868b',font=(\"Times\",5,\"italic bold\"))\n",
    "mylabel.pack()\n",
    "root.mainloop()"
   ]
  },
  {
   "cell_type": "markdown",
   "metadata": {},
   "source": [
    "NOTE: It is important to remember that the font size argument that we pass does not simply change the size of the font but of the entire Label. That means that if we specify the height and width of the Label as 10 and 30, setting the font size to 24 will maintain these dimension but will consequently also increase the Label size. On the other hand, setting the font size to 5 will also maintain the ratio of the Label dimension but will decrease the size of the Label drastically. "
   ]
  },
  {
   "cell_type": "markdown",
   "metadata": {},
   "source": [
    "This can also be better observed with more than one button. "
   ]
  },
  {
   "cell_type": "code",
   "execution_count": 63,
   "metadata": {},
   "outputs": [],
   "source": [
    "root = tkinter.Tk()\n",
    "mylabel = Label(root,text=\"Hello World\",height=10,width=30,bg='#f3e5f3',fg='#00868b',font=(\"Times\",10,\"italic bold \"))\n",
    "mylabel.pack()\n",
    "mylabel2 = Label(root,text=\"Hello World\",height=30,width=10,bg='blue',fg='white',font=(\"Helvetica\",10,\"italic bold\"))\n",
    "mylabel2.pack()\n",
    "root.mainloop()"
   ]
  },
  {
   "cell_type": "code",
   "execution_count": 64,
   "metadata": {},
   "outputs": [],
   "source": [
    "root = tkinter.Tk()\n",
    "mylabel = Label(root,text=\"Hello World\",height=10,width=30,bg='#f3e5f3',fg='#00868b',font=(\"Times\",20,\"italic bold\"))\n",
    "mylabel.pack()\n",
    "mylabel2 = Label(root,text=\"Hello World\",height=30,width=10,bg='blue',fg='white',font=(\"Helvetica\",5,\"italic bold\"))\n",
    "mylabel2.pack()\n",
    "root.mainloop()"
   ]
  },
  {
   "cell_type": "markdown",
   "metadata": {},
   "source": [
    "Do obeserve the changes in the above two codes"
   ]
  },
  {
   "cell_type": "markdown",
   "metadata": {},
   "source": [
    "### More text formatting options"
   ]
  },
  {
   "cell_type": "markdown",
   "metadata": {},
   "source": [
    "The following formatting options woke best on longer lenghts of text hence we are going to use a simply two line extract from a wikipedia article saved a variable named 'random_text' and passed to the text argument of mylabel. \n",
    "\n",
    "- we use the *<b>wraplength</b>* argument to define the length of each line, we pass an integer value to this argument. \n",
    "- we use the *<b>justify</b>* argument to either left, right or center justify these wrapped text. we pass the strings 'left', 'right' or 'center' to do the same. \n",
    "- we can choose the *<b>anchor</b>* the text in the label. Incase the size or length of the text is much smaller than that of the text box we may chose to orient it to one side using the 'justfy' argument and passing directions south ('s'), north ('n'), east('e'), west ('w'),north-west ('nw'), north-east ('ne'),south-east('se') or south-west ('sw').\n",
    "\n",
    "the code below implements the same:\n",
    "- *An enchantress disguised as a beggar arrives at a French castle and offers a cruel and selfish prince a rose in return for shelter. When he refuses, she reveals her identity.\\nTo punish the prince for his lack of compassion, the enchantress transforms him into a beast and his servants into household objects.*\n",
    " \n",
    "the text we will be wrapping is:\n",
    "    "
   ]
  },
  {
   "cell_type": "code",
   "execution_count": 111,
   "metadata": {},
   "outputs": [],
   "source": [
    "root = tkinter.Tk()\n",
    "random_text = \"An enchantress disguised as a beggar arrives at a French castle and offers a cruel and selfish prince a rose in return for shelter. When he refuses, she reveals her identity.\\nTo punish the prince for his lack of compassion, the enchantress transforms him into a beast and his servants into household objects.\"\n",
    "mylabel = Label(root,text=random_text,height=10,width=30,font=(\"Times\",20,\"italic bold\"),anchor='s',wraplength=500,justify='right')\n",
    "mylabel.pack()\n",
    "root.mainloop()"
   ]
  },
  {
   "cell_type": "markdown",
   "metadata": {},
   "source": [
    "### More arguments to explore:\n",
    "- borderwidth: Defines the width of the label border\n",
    "- background: (same as bg)\n",
    "- active background: What foreground color to use when the label is active.\n",
    "- activebackground: What background color to use when the label is active (set with the state option). The default is platform specific\n",
    "- bitmap: The bitmap to display in the widget. If the image option is given, this option is ignored. (bitmap/Bitmap) \n",
    "- bd: (same as borderwidth)\n",
    "- compound: Controls how to combine text and image in the label. By default, if an image or bitmap is given, it is drawn instead of the text. If this option is set to CENTER, the text is drawn on top of the image. If this option is set to one of BOTTOM, LEFT, RIGHT, or TOP, the image is drawn besides the text (use BOTTOM to draw the image under the text, etc.). Default is NONE. (compound/Compound) \n",
    "- cursor: What cursor to show when the mouse is moved over the label. The default is to use the standard cursor. (cursor/Cursor)\n",
    "- disabledforeground: What foreground color to use when the label is disabled. The default is system specific. (disabledForeground/DisabledForeground)\n",
    "- disabledforeground: What foreground color to use when the label is disabled. The default is system specific. (disabledForeground/DisabledForeground)\n",
    "- highlightcolor: What color to use for the highlight border when the widget has focus. The default is system specific. (highlightColor/HighlightColor)\n",
    "- highlightthickness: The width of the highlight border. The default is 0 (no highlight border). (highlightThickness/HighlightThickness)\n",
    "- image: The image to display in the widget. The value should be a PhotoImage, BitmapImage, or a compatible object. If specified, this takes precedence over the text and bitmap options. (image/Image) \n",
    "- justify: Defines how to align multiple lines of text. Use LEFT, RIGHT, or CENTER. Note that to position the text inside the widget, use the anchor option. Default is CENTER. (justify/Justify) \n",
    "- padx: Extra horizontal padding to add around the text. The default is 1 pixel. (padX/Pad)\n",
    "- pady: Extra vertical padding to add around the text. The default is 1 pixel. (padY/Pad)\n",
    "- relief: Border decoration. The default is FLAT. Other possible values are SUNKEN, RAISED, GROOVE, and RIDGE. (relief/Relief) \n",
    "- state: Label state. This option controls how the label is rendered. The default is NORMAL. Other possible values are ACTIVE and DISABLED. (state/State) \n",
    "- takefocus: If true, the widget accepts input focus. The default is false. (takeFocus/TakeFocus)\n",
    "- text: The text to display in the label. The text can contain newlines. If the bitmap or image options are used, this option is ignored. (text/Text) \n",
    "- textvariable: Associates a Tkinter variable (usually a StringVar) with the label. If the variable is changed, the label text is updated. (textVariable/Variable) \n",
    "\n",
    "\n",
    "resources: https://effbot.org/tkinterbook/label.htm\n"
   ]
  },
  {
   "cell_type": "code",
   "execution_count": null,
   "metadata": {},
   "outputs": [],
   "source": []
  }
 ],
 "metadata": {
  "kernelspec": {
   "display_name": "Python 3",
   "language": "python",
   "name": "python3"
  },
  "language_info": {
   "codemirror_mode": {
    "name": "ipython",
    "version": 3
   },
   "file_extension": ".py",
   "mimetype": "text/x-python",
   "name": "python",
   "nbconvert_exporter": "python",
   "pygments_lexer": "ipython3",
   "version": "3.6.7"
  }
 },
 "nbformat": 4,
 "nbformat_minor": 2
}
