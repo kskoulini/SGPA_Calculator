{
 "cells": [
  {
   "cell_type": "markdown",
   "metadata": {},
   "source": [
    "# Creating Buttons using tkinter.Button()"
   ]
  },
  {
   "cell_type": "markdown",
   "metadata": {},
   "source": [
    "### What is the Button() in tkinter?"
   ]
  },
  {
   "cell_type": "markdown",
   "metadata": {},
   "source": [
    "The Button widget is a standard Tkinter widget used to implement various kinds of buttons. Buttons can contain text or images, and you can associate a Python function or method with each button. When the button is pressed, Tkinter automatically calls that function or method.\n",
    "The button can only display text in a single font, but the text may span more than one line. In addition, one of the characters can be underlined, for example to mark a keyboard shortcut."
   ]
  },
  {
   "cell_type": "markdown",
   "metadata": {},
   "source": [
    "<b>SYNTAX:</b>\n",
    "<*Button_name*> = tkinter.Button(<*main_window_name*>,text='string to be displayed',command=<*What happens when the button is pressed*>)"
   ]
  },
  {
   "cell_type": "markdown",
   "metadata": {},
   "source": [
    "### Importing tkinter and Label"
   ]
  },
  {
   "cell_type": "markdown",
   "metadata": {},
   "source": [
    "We simply import tkinter using 'import tkinter' statement, however doing so would require us to write tkinter.Tk() in each step so as to indicate under which module the function definion is. To avoid this we may choose to either say \"from tkinter import *\" or \"from tkinter import Button\". Do note that using 'from tkinter import Button' will import that function alone. "
   ]
  },
  {
   "cell_type": "code",
   "execution_count": 1,
   "metadata": {},
   "outputs": [],
   "source": [
    "import tkinter\n",
    "from tkinter import Button"
   ]
  },
  {
   "cell_type": "markdown",
   "metadata": {},
   "source": [
    "### Creating a Label()\n",
    "\n",
    "lets create our mainwindow named root and add a button to it. \n",
    "We call either the pack() or the grid() function on the object to add it to our mainwindow. \n",
    "\n",
    "<b> SYNTAX FOR GRID AND PACK: </b>\n",
    "- <*widget variable name*>.pack()\n",
    "- <*widget variable name*>.grid()"
   ]
  },
  {
   "cell_type": "code",
   "execution_count": 3,
   "metadata": {},
   "outputs": [],
   "source": [
    "root = tkinter.Tk()\n",
    "button1 = Button(root,text=\"click me\")\n",
    "button1.pack()\n",
    "root.mainloop()\n"
   ]
  },
  {
   "cell_type": "markdown",
   "metadata": {},
   "source": [
    "## Customizing the Label\n",
    "\n",
    "Let us look at various arguments that can be passed"
   ]
  },
  {
   "cell_type": "markdown",
   "metadata": {},
   "source": [
    "A button widget is usually used when an operation has to be performed upon clicking the button. This operations is performed by calling a function when the button is pressed. To impliement this we pass the function name to the <b>command</b> argument of a button. "
   ]
  },
  {
   "cell_type": "code",
   "execution_count": 5,
   "metadata": {},
   "outputs": [],
   "source": [
    "def show():\n",
    "    print(\"Hello there\")"
   ]
  },
  {
   "cell_type": "markdown",
   "metadata": {},
   "source": [
    "We now create a function that calls that function when it is pressed. "
   ]
  },
  {
   "cell_type": "code",
   "execution_count": 6,
   "metadata": {},
   "outputs": [
    {
     "name": "stdout",
     "output_type": "stream",
     "text": [
      "Hello there\n",
      "Hello there\n",
      "Hello there\n",
      "Hello there\n"
     ]
    }
   ],
   "source": [
    "root = tkinter.Tk()\n",
    "button1 = Button(root,text='Click me',command=show)\n",
    "button1.pack()\n",
    "root.mainloop()"
   ]
  },
  {
   "cell_type": "markdown",
   "metadata": {},
   "source": [
    "as you can see, the above button calls and executes the specified function button being clicking. We can also impliment the same using a lambda function. "
   ]
  },
  {
   "cell_type": "code",
   "execution_count": 7,
   "metadata": {},
   "outputs": [
    {
     "name": "stdout",
     "output_type": "stream",
     "text": [
      "how are you?\n",
      "how are you?\n",
      "how are you?\n",
      "how are you?\n"
     ]
    }
   ],
   "source": [
    "root = tkinter.Tk()\n",
    "button1 = Button(root,text='Click me',command=lambda: print('how are you?'))\n",
    "button1.pack()\n",
    "root.mainloop()"
   ]
  },
  {
   "cell_type": "markdown",
   "metadata": {},
   "source": [
    "### Changing the hight and width of the button"
   ]
  },
  {
   "cell_type": "markdown",
   "metadata": {},
   "source": [
    "We use the 'height' and 'width argument to set the height and width of the button as follows"
   ]
  },
  {
   "cell_type": "code",
   "execution_count": 11,
   "metadata": {},
   "outputs": [
    {
     "name": "stdout",
     "output_type": "stream",
     "text": [
      "how are you?\n",
      "how are you?\n"
     ]
    }
   ],
   "source": [
    "root = tkinter.Tk()\n",
    "root.minsize(300,300) \n",
    "#By default the mainwindow is opened only large enough to just accomodate the button \n",
    "#Hence we set a misize to better obserever the change in size of the button\n",
    "button1 = Button(root,text='Click me',height=5,width=15,command=lambda: print('how are you?'))\n",
    "button1.pack()\n",
    "root.mainloop()\n"
   ]
  },
  {
   "cell_type": "markdown",
   "metadata": {},
   "source": [
    "You can use the padx and pady option to add some extra space between the contents and the button border."
   ]
  },
  {
   "cell_type": "code",
   "execution_count": 25,
   "metadata": {},
   "outputs": [],
   "source": [
    "root = tkinter.Tk()\n",
    "root.minsize(300,300) \n",
    "button1 = Button(root,text='Click me',padx=50,pady=50,command=lambda: print('how are you?'))\n",
    "button1.pack()\n",
    "root.mainloop()"
   ]
  },
  {
   "cell_type": "markdown",
   "metadata": {},
   "source": [
    "### Button text formatting"
   ]
  },
  {
   "cell_type": "markdown",
   "metadata": {},
   "source": [
    "Buttons can display multiple lines of text (but only in one font). You can use newlines, or use the wraplength option to make the button wrap text by itself, use the anchor to chage orientation and justify for changing the side the lines are biased to.\n",
    "\n",
    "- we use the *<b>wraplength</b>* argument to define the length of each line, we pass an integer value to this argument. \n",
    "- we use the *<b>justify</b>* argument to either left, right or center justify these wrapped text. we pass the strings 'left', 'right' or 'center' to do the same. \n",
    "- we can choose the *<b>anchor</b>* the text in the label. Incase the size or length of the text is much smaller than that of the text box we may chose to orient it to one side using the 'justfy' argument and passing directions south ('s'), north ('n'), east('e'), west ('w'),north-west ('nw'), north-east ('ne'),south-east('se') or south-west ('sw').\n"
   ]
  },
  {
   "cell_type": "markdown",
   "metadata": {},
   "source": [
    "As this is best observed on longer strings we are going to use a two line extract from a wikipedia article to show the same:\n",
    "\n",
    "the text we will be wrapping is:\n",
    "- *An enchantress disguised as a beggar arrives at a French castle and offers a cruel and selfish prince a rose in return for shelter. When he refuses, she reveals her identity.\\nTo punish the prince for his lack of compassion, the enchantress transforms him into a beast and his servants into household objects.*\n"
   ]
  },
  {
   "cell_type": "code",
   "execution_count": 31,
   "metadata": {},
   "outputs": [
    {
     "name": "stdout",
     "output_type": "stream",
     "text": [
      "You are awesome\n",
      "You are awesome\n",
      "You are awesome\n",
      "You are awesome\n"
     ]
    }
   ],
   "source": [
    "root = tkinter.Tk()\n",
    "root.minsize(500,300)\n",
    "random_text = 'An enchantress disguised as a beggar arrives at a French castle and offers a cruel and selfish prince a rose in return for shelter. When he refuses, she reveals her identity.\\nTo punish the prince for his lack of compassion, the enchantress transforms him into a beast and his servants into household objects'\n",
    "button1 = Button(root,text=random_text,command = lambda: print(\"You are awesome\"),wraplength=300,justify='right',anchor='s')\n",
    "button1.pack()\n",
    "root.mainloop()"
   ]
  },
  {
   "cell_type": "markdown",
   "metadata": {},
   "source": [
    "To change the appearance of the button you can simply pass 'flat', 'groove', 'raised', 'ridge', 'solid', or 'sunken' to the argument <b>relief</b> "
   ]
  },
  {
   "cell_type": "code",
   "execution_count": 35,
   "metadata": {},
   "outputs": [],
   "source": [
    "root = tkinter.Tk()\n",
    "root.minsize(500,300)\n",
    "random_text = 'An enchantress disguised as a beggar arrives at a French castle and offers a cruel and selfish prince a rose in return for shelter. When he refuses, she reveals her identity.\\nTo punish the prince for his lack of compassion, the enchantress transforms him into a beast and his servants into household objects'\n",
    "button1 = Button(root,text=random_text,relief='groove',command = lambda: print(\"You are awesome\"),wraplength=300,justify='right',anchor='s')\n",
    "button1.pack()\n",
    "root.mainloop()"
   ]
  },
  {
   "cell_type": "markdown",
   "metadata": {},
   "source": [
    "## More Customizations to explore: \n",
    "\n",
    "1. activebackground: What background color to use when the button is active. The default is system specific. (the option database name is activeBackground, the class is Foreground)\n",
    "2. activeforeground: What foreground color to use when the button is active. The default is system specific. (activeForeground/Background)\n",
    "3. anchor: Controls where in the button the text (or image) should be located. Use one of N, NE, E, SE, S, SW, W, NW, or CENTER. Default is CENTER. (anchor/Anchor) \n",
    "4. background: The background color. The default is system specific. (background/Background)\n",
    "5. bg: Same as background. \n",
    "6. bitmap: The bitmap to display in the widget. If the image option is given, this option is ignored. (bitmap/Bitmap) \n",
    "7. borderwidth: The width of the button border. The default is platform specific, but is usually 1 or 2 pixels. (borderWidth/BorderWidth)\n",
    "8. bd: Same as borderwidth. \n",
    "9. command: A function or method that is called when the button is pressed. The callback can be a function, bound method, or any other callable Python object. If this option is not used, nothing will happen when the user presses the button. (command/Command)\n",
    "10. compound: Controls how to combine text and image in the button. By default, if an image or bitmap is given, it is drawn instead of the text. If this option is set to CENTER, the text is drawn on top of the image. If this option is set to one of BOTTOM, LEFT, RIGHT, or TOP, the image is drawn besides the text (use BOTTOM to draw the image under the text, etc.). Default is NONE. (compound/Compound) \n",
    "11. cursor: The cursor to show when the mouse is moved over the button. (cursor/Cursor)\n",
    "12. default: If set, the button is a default button. Tkinter will indicate this by drawing a platform specific indicator (usually an extra border). The default is DISABLED (no default behavior). (default/Default) \n",
    "13. disabledforeground: The color to use when the button is disabled. The background is shown in the background color. The default is system specific. (disabledForeground/DisabledForeground) \n",
    "14. font: The font to use in the button. The button can only contain text in a single font. The default is system specific. (font/Font)\n",
    "15. foreground: The color to use for text and bitmap content. The default is system specific. (foreground/Foreground)\n",
    "16. fg: Same as foreground. \n",
    "17. height: The height of the button. If the button displays text, the size is given in text units. If the button displays an image, the size is given in pixels (or screen units). If the size is omitted, it is calculated based on the button contents. (height/Height)\n",
    "18. highlightbackground: The color to use for the highlight border when the button does not have focus. The default is system specific. (highlightBackground/HighlightBackground)\n",
    "19. highlightcolor: The color to use for the highlight border when the button has focus. The default is system speciific. (highlightColor/HighlightColor)\n",
    "20. highlightthickness: The width of the highlight border. The default is system specific (usually one or two pixels). (highlightThickness/HighlightThickness)\n",
    "21. image: The image to display in the widget. If specified, this takes precedence over the text and bitmap options. (image/Image) \n",
    "22. justify: Defines how to align multiple lines of text. Use LEFT, RIGHT, or CENTER. Default is CENTER. (justify/Justify) \n",
    "23. overrelief: Alternative relief to use when the mouse is moved over the widget. If empty, always use the relief value. (overRelief/OverRelief) \n",
    "24. padx: Extra horizontal padding between the text or image and the border. (padX/Pad)\n",
    "25. pady: Extra vertical padding between the text or image and the border. (padY/Pad)\n",
    "26. relief: Border decoration. Usually, the button is SUNKEN when pressed, and RAISED otherwise. Other possible values are GROOVE, RIDGE, and FLAT. Default is RAISED. (relief/Relief) \n",
    "\n",
    "reference for more/resource:\n",
    "https://effbot.org/tkinterbook/button.htm"
   ]
  },
  {
   "cell_type": "code",
   "execution_count": null,
   "metadata": {},
   "outputs": [],
   "source": []
  }
 ],
 "metadata": {
  "kernelspec": {
   "display_name": "Python 3",
   "language": "python",
   "name": "python3"
  },
  "language_info": {
   "codemirror_mode": {
    "name": "ipython",
    "version": 3
   },
   "file_extension": ".py",
   "mimetype": "text/x-python",
   "name": "python",
   "nbconvert_exporter": "python",
   "pygments_lexer": "ipython3",
   "version": "3.6.7"
  }
 },
 "nbformat": 4,
 "nbformat_minor": 2
}
