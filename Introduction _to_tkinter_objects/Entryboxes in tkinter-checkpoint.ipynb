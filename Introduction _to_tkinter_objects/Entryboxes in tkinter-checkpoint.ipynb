{
 "cells": [
  {
   "cell_type": "markdown",
   "metadata": {},
   "source": [
    "# Creating Entry boxes in tkinter"
   ]
  },
  {
   "cell_type": "markdown",
   "metadata": {},
   "source": [
    "### What is an Entry() (entry box) in tkinter?"
   ]
  },
  {
   "cell_type": "markdown",
   "metadata": {},
   "source": [
    "The Entry widget is a standard Tkinter widget used to enter (input) or display a single line of text."
   ]
  },
  {
   "cell_type": "code",
   "execution_count": null,
   "metadata": {},
   "outputs": [],
   "source": [
    "<b>SYNTAX:</b>\n",
    "\n",
    "<*variable_name*> = tkinter.Label(<*main_window_name*>,value)"
   ]
  },
  {
   "cell_type": "markdown",
   "metadata": {},
   "source": [
    "### Importing tkinter and Label"
   ]
  },
  {
   "cell_type": "markdown",
   "metadata": {},
   "source": [
    "We simply import tkinter using 'import tkinter' statement, however doing so would require us to write tkinter.Tk() in each step so as to indicate under which module the function definion is. To avoid this we may choose to either say \"from tkinter import *\" or \"from tkinter import Entry\". Do note that using 'from tkinter import Entry' will import that function alone. "
   ]
  },
  {
   "cell_type": "markdown",
   "metadata": {},
   "source": [
    "###### NOTE: Incase you are using a version of pythong 2.x the tkinter module will be named Tkinter. Incase you are uing a platform other than JupyterNotebook you might have to install the tkinter seperately"
   ]
  },
  {
   "cell_type": "code",
   "execution_count": 13,
   "metadata": {},
   "outputs": [],
   "source": [
    "import tkinter\n",
    "from tkinter import Entry"
   ]
  },
  {
   "cell_type": "markdown",
   "metadata": {},
   "source": [
    "### Creating an instance of Entry()\n",
    "\n",
    "lets create our mainwindow named root and add an instance of Entry() (entrybox) to it. \n",
    "We call either the pack() or the grid() function on the object to add it to our mainwindow. \n",
    "\n",
    "<b> SYNTAX FOR GRID AND PACK: </b>\n",
    "- <*widget variable name*>.pack()\n",
    "- <*widget variable name*>.grid()"
   ]
  },
  {
   "cell_type": "code",
   "execution_count": 10,
   "metadata": {},
   "outputs": [],
   "source": [
    "root = tkinter.Tk()\n",
    "\n",
    "entry_box = Entry(root)\n",
    "entry_box.pack()\n",
    "root.mainloop()"
   ]
  },
  {
   "cell_type": "markdown",
   "metadata": {},
   "source": [
    "The above code creates a simply window that is wrapped to the size of a text box. Let us now see the various arguments we can pass to our label"
   ]
  },
  {
   "cell_type": "markdown",
   "metadata": {},
   "source": [
    "### Taking inputs from an entry box"
   ]
  },
  {
   "cell_type": "markdown",
   "metadata": {},
   "source": [
    "One of the main functions of an Entry box is to accept input from the user. We can do this using the <b>textvariable</b> that stored the entered data into a variable. The data stored in the variable can be accessed throghout the program. "
   ]
  },
  {
   "cell_type": "markdown",
   "metadata": {},
   "source": [
    "##### The variable we will be have to use must be a tkinter variable. Some of the same can be created using the following functions:\n",
    "\n",
    "    1. tkinter.Variable(): \n",
    "    Used to creat a variable instance that implicitly stores the value as a string. \n",
    "    However it can hold values of any datatype and is not limited to string. \n",
    "    \n",
    "    2. tkinter.DoubleVar(): \n",
    "    Used to create a variable instance that stores the value as float. \n",
    "    It is implicitly intialized to 0.0. \n",
    "    It cannot take any non floating point value, entering the same will result in an error. \n",
    "    \n",
    "    3. tkinter.IntVar(): \n",
    "    Used to create a variable object that stores integer values, it is implicitly initialized to 0. \n",
    "    Can only read integer values.\n",
    "    \n",
    "    4. tkinter.StringVar(): \n",
    "    Used to create a variable instance that stores srting values. Implicitly intitialized to an empty string.\n",
    "    \n",
    " ##### We use to .get() method on our tkinter variable to retrieve the value it stores. "
   ]
  },
  {
   "cell_type": "code",
   "execution_count": 18,
   "metadata": {},
   "outputs": [
    {
     "name": "stdout",
     "output_type": "stream",
     "text": [
      "\n",
      "hello\n",
      "hello\n",
      "hello\n"
     ]
    }
   ],
   "source": [
    "root = tkinter.Tk()\n",
    "data = tkinter.Variable() #Creating our variable\n",
    "entry_box = Entry(root,textvariable = data)\n",
    "entry_box.pack()\n",
    "\n",
    "## Creating a button that prints the value stored by the button on being pressed\n",
    "button1 = tkinter.Button(root,text='Click to see',command = lambda: print(data.get()))\n",
    "button1.pack()\n",
    "root.mainloop()"
   ]
  },
  {
   "cell_type": "markdown",
   "metadata": {},
   "source": [
    "### Some basic costomizations:"
   ]
  },
  {
   "cell_type": "markdown",
   "metadata": {},
   "source": [
    "You can change the width of the text box using then <b>width</b> argument. "
   ]
  },
  {
   "cell_type": "code",
   "execution_count": 28,
   "metadata": {},
   "outputs": [
    {
     "name": "stdout",
     "output_type": "stream",
     "text": [
      "hello how are you?\n",
      "I am doing good thank you\n"
     ]
    }
   ],
   "source": [
    "root = tkinter.Tk()\n",
    "data = tkinter.Variable() #Creating our variable\n",
    "entry_box = Entry(root,textvariable = data,width=50)\n",
    "entry_box.pack()\n",
    "button1 = tkinter.Button(root,text='Click to see',command = lambda: print(data.get()))\n",
    "button1.pack()\n",
    "root.mainloop()"
   ]
  },
  {
   "cell_type": "markdown",
   "metadata": {},
   "source": [
    "You can use <b>fg</b> and <b>bg</b> to change the foreground and background colours by passed the colour's name or its hex code as a string to these argument."
   ]
  },
  {
   "cell_type": "code",
   "execution_count": 31,
   "metadata": {},
   "outputs": [],
   "source": [
    "root = tkinter.Tk()\n",
    "data = tkinter.Variable() #Creating our variable\n",
    "entry_box = Entry(root,textvariable = data,bg='blue',fg='white')\n",
    "entry_box.pack()\n",
    "button1 = tkinter.Button(root,text='Click to see',command = lambda: print(data.get()))\n",
    "button1.pack()\n",
    "root.mainloop()"
   ]
  },
  {
   "cell_type": "markdown",
   "metadata": {},
   "source": [
    "You can chage weather the text is left, right or center justified by passing the words 'right', 'left' or 'center' as a string to the <b>justify</b> argument"
   ]
  },
  {
   "cell_type": "code",
   "execution_count": 33,
   "metadata": {},
   "outputs": [
    {
     "name": "stdout",
     "output_type": "stream",
     "text": [
      "How are you going to work?\n",
      "i will be taking the bus\n"
     ]
    }
   ],
   "source": [
    "root = tkinter.Tk()\n",
    "data = tkinter.Variable() #Creating our variable\n",
    "entry_box = Entry(root,textvariable = data,bg='blue',fg='white',justify='right')\n",
    "entry_box.pack()\n",
    "button1 = tkinter.Button(root,text='Click to see',command = lambda: print(data.get()))\n",
    "button1.pack()\n",
    "root.mainloop()"
   ]
  },
  {
   "cell_type": "markdown",
   "metadata": {},
   "source": [
    "You can change the border style using the <b>relief</b> argument by passing 'flat', 'groove', 'raised', 'ridge', 'solid', or 'sunken'."
   ]
  },
  {
   "cell_type": "code",
   "execution_count": 35,
   "metadata": {},
   "outputs": [],
   "source": [
    "root = tkinter.Tk()\n",
    "data = tkinter.Variable() #Creating our variable\n",
    "entry_box = Entry(root,textvariable = data,relief='flat',justify='right')\n",
    "entry_box.pack()\n",
    "button1 = tkinter.Button(root,text='Click to see',command = lambda: print(data.get()))\n",
    "button1.pack()\n",
    "root.mainloop()"
   ]
  },
  {
   "cell_type": "markdown",
   "metadata": {},
   "source": [
    "### More costomizations to explore:\n",
    "\n",
    "1. borderwidth: Border width. The default is system specific, but is usually a few pixels. (borderWidth/BorderWidth)\n",
    "2. bd: Same as borderwidth. \n",
    "3. cursor: Widget cursor. The default is a text insertion cursor (typically an “I-beam” cursor, e.g. xterm). (cursor/Cursor) \n",
    "4. disabledbackground: Background to use when the widget is disabled. If omitted or blank, the standard background is used instead. (disabledBackground/DisabledBackground)\n",
    "5. disabledforeground: Text color to use when the widget is disabled. If omitted or blank, the standard foreground is used instead. (disabledForeground/DisabledForeground)\n",
    "6. exportselection: If true, selected text is automatically exported to the clipboard. Default is true. (exportSelection/ExportSelection\n",
    "7. font: Widget font. The default is system specific. (font/Font)\n",
    "8. foregroundA: Text color. (foreground/Foreground)\n",
    "9. fg: Same as foreground. \n",
    "10. highlightbackground: Together with highlightcolor, this option controls how to draw the focus highlight border. This option is used when the widget doesn’t have focus. The default is system specific. (highlightBackground/HighlightBackground) \n",
    "11. highlightcolor: Same as highlightbackground, but is used when the widget has focus. (highlightColor/HighlightColor) \n",
    "12. highlightthickness: The width of the focus highlight border. Default is typically a few pixels, unless the system indicates focus by modifying the button itself (like on Windows). (highlightThickness/HighlightThickness)\n",
    "13. insertbackground: Color used for the insertion cursor. (insertBackground/Foreground)\n",
    "13. insertborderwidth: Width of the insertion cursor’s border. If this is set to a non-zero value, the cursor is drawn using the RAISED border style. (insertBorderWidth/BorderWidth) \n",
    "14. insertofftime: Together with insertontime, this option controls cursor blinking. Both values are given in milliseconds. (insertOffTime/OffTime) \n",
    "15. insertontime: See insertofftime. (insertOnTime/OnTime) \n",
    "16. insertwidth: Width of the insertion cursor. Usually one or two pixels. (insertWidth/InsertWidth)\n",
    "\n",
    "reference for more / resource: https://effbot.org/tkinterbook/entry.htm"
   ]
  },
  {
   "cell_type": "code",
   "execution_count": null,
   "metadata": {},
   "outputs": [],
   "source": []
  }
 ],
 "metadata": {
  "kernelspec": {
   "display_name": "Python 3",
   "language": "python",
   "name": "python3"
  },
  "language_info": {
   "codemirror_mode": {
    "name": "ipython",
    "version": 3
   },
   "file_extension": ".py",
   "mimetype": "text/x-python",
   "name": "python",
   "nbconvert_exporter": "python",
   "pygments_lexer": "ipython3",
   "version": "3.6.7"
  }
 },
 "nbformat": 4,
 "nbformat_minor": 2
}
