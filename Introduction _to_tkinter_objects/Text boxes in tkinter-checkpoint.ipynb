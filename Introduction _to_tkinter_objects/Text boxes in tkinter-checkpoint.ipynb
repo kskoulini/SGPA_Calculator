{
 "cells": [
  {
   "cell_type": "markdown",
   "metadata": {},
   "source": [
    "# Creating text boxes in tkinter using tkinter.Text()"
   ]
  },
  {
   "cell_type": "markdown",
   "metadata": {},
   "source": [
    "### What is Text() method in tkinter?"
   ]
  },
  {
   "cell_type": "markdown",
   "metadata": {},
   "source": [
    "The Text widget provides a simple way to display text. It allows you to display and formatted and edited text with various styles and attributes. The widget also supports embedded images and windows."
   ]
  },
  {
   "cell_type": "markdown",
   "metadata": {},
   "source": [
    "<b>SYNTAX:</b>\n",
    "\n",
    "<*variable_name*> = tkinter.Text(<*main_window_name*>)"
   ]
  },
  {
   "cell_type": "markdown",
   "metadata": {},
   "source": [
    "### Importing tkinter and Text"
   ]
  },
  {
   "cell_type": "markdown",
   "metadata": {},
   "source": [
    "We simply import tkinter using 'import tkinter' statement, however doing so would require us to write tkinter.Tk() in each step so as to indicate under which module the function definion is. To avoid this we may choose to either say \"from tkinter import * \" or \"from tkinter import Text\". Do note that using 'from tkinter import Text' will import that function alone. "
   ]
  },
  {
   "cell_type": "code",
   "execution_count": 4,
   "metadata": {},
   "outputs": [],
   "source": [
    "import tkinter\n",
    "from tkinter import Text"
   ]
  },
  {
   "cell_type": "markdown",
   "metadata": {},
   "source": [
    "### creating an instance of Text()"
   ]
  },
  {
   "cell_type": "markdown",
   "metadata": {},
   "source": [
    "lets create our mainwindow named root and add an instance of text box (Text()) to it. \n",
    "We call either the pack() or the grid() function on the object to add it to our mainwindow. \n",
    "\n",
    "<b> SYNTAX FOR GRID AND PACK: </b>\n",
    "- <*widget variable name*>.pack()\n",
    "- <*widget variable name*>.grid()"
   ]
  },
  {
   "cell_type": "code",
   "execution_count": 5,
   "metadata": {},
   "outputs": [],
   "source": [
    "root = tkinter.Tk()\n",
    "box1 = Text(root)\n",
    "box1.pack()\n",
    "root.mainloop()"
   ]
  },
  {
   "cell_type": "markdown",
   "metadata": {},
   "source": [
    "### Changing the dimensions of the text box\n",
    "\n",
    "we can change the height and width by passing arguments keyword 'height' and 'width' and integer values to them where the height indicates the number of lines displayed and the width indicates the number of characters displayed per line. "
   ]
  },
  {
   "cell_type": "code",
   "execution_count": 10,
   "metadata": {},
   "outputs": [],
   "source": [
    "root = tkinter.Tk()\n",
    "box1 = Text(root,height=10,width=30)\n",
    "box1.pack()\n",
    "root.mainloop()"
   ]
  },
  {
   "cell_type": "markdown",
   "metadata": {},
   "source": [
    "### Adding text to a text box  (Insert function)"
   ]
  },
  {
   "cell_type": "markdown",
   "metadata": {},
   "source": [
    "we call the <b>insert()</b> function on our text box objext to add text to it. Text is inserted line by like to a text box as the insert function takes <b>the first argument is the index number and the second argument is the string to be displayed</b> it should be displayed at. \n",
    "\n",
    "#### <font color='red'> NOTE: When using updation functions such as insert or delete on any widget, they widget must be packed on a seperate line. </font>\n",
    "    Example1: box1 = Text(root).pack()\n",
    "              box1.insert('1.0','hello') # this will return an error.\n",
    "    Example2: box1 = Text(root)\n",
    "              box1.insert('1.0','hello')\n",
    "              box1.pack() # this will not return an error.\n",
    "##### Index number\n",
    "The indext number argument of the insert function takes floating point values that can also be passed as a string.\n",
    "ex: 1.2 or '1.2'\n",
    "the integer part of the index (here 1) stands for the order in which the strings are displayed. a string inserted at index '2.0' would be displayed after a string whose index is '1.0'. If each string ends with a '\\n' these could be thought of as row numbers. \n",
    "the decimal part of the index value is column number. \n",
    "\n",
    "##### Named  Indexes\n",
    "Instead of passing a floating point value we can also pass certain keywords:\n",
    "- INSERT (“insert”) corresponds to the insertion cursor.\n",
    "- CURRENT (“current”) corresponds to the character closest to the mouse pointer. However, it is only updated if you move the mouse without holding down any buttons (if you do, it will not be updated until you release the button).\n",
    "- END (“end”) corresponds to the position just after the last character in the buffer."
   ]
  },
  {
   "cell_type": "code",
   "execution_count": 81,
   "metadata": {},
   "outputs": [],
   "source": [
    "#Notice the order in which the words are printed\n",
    "\n",
    "root = tkinter.Tk()\n",
    "box1 = Text(root,height=10,width=30)\n",
    "box1.insert('1.0','awesome\\n')\n",
    "box1.insert('3.0','bye\\n')\n",
    "box1.insert('2.0','hi again\\n')\n",
    "box1.pack()\n",
    "root.mainloop()\n",
    "\n",
    "# Output:\n",
    "# awesome\n",
    "# hi again\n",
    "# bye"
   ]
  },
  {
   "cell_type": "code",
   "execution_count": 80,
   "metadata": {},
   "outputs": [],
   "source": [
    "#Notice that 'bye' overlaps 'awesome' from the second column (indexing from 0)\n",
    "\n",
    "root = tkinter.Tk()\n",
    "box1 = Text(root,height=10,width=30)\n",
    "box1.insert('1.0','awesome')\n",
    "box1.insert('1.2','bye')\n",
    "box1.insert('2.0','hi again\\n')\n",
    "box1.pack()\n",
    "root.mainloop()\n",
    "\n",
    "#output: awbye hi again"
   ]
  },
  {
   "cell_type": "code",
   "execution_count": 79,
   "metadata": {},
   "outputs": [],
   "source": [
    "# Uing named indexes\n",
    "\n",
    "root = tkinter.Tk()\n",
    "box1 = Text(root,height=10,width=30)\n",
    "box1.insert('insert','awesome ')\n",
    "box1.insert('current','bye ')\n",
    "box1.insert('end','hi again\\n')\n",
    "box1.pack()\n",
    "root.mainloop()\n",
    "\n",
    "#output: \n",
    "# awesome\n",
    "# bye\n",
    "# hi again"
   ]
  },
  {
   "cell_type": "markdown",
   "metadata": {},
   "source": [
    "### Deleting text from a text box"
   ]
  },
  {
   "cell_type": "markdown",
   "metadata": {},
   "source": [
    "We use the delete function on our text box to delete text from it. Similar to the insert function it takes two arguments. \n",
    "The two arguments are two index values, the first being strarting from which and the second being uptil which the text is deleted. "
   ]
  },
  {
   "cell_type": "code",
   "execution_count": 96,
   "metadata": {},
   "outputs": [],
   "source": [
    "root = tkinter.Tk()\n",
    "box1 = Text(root,height=10,width=30)\n",
    "box1.insert('1.0','awesome\\n')\n",
    "box1.insert('3.0','bye\\n')\n",
    "box1.insert('2.0','hi again\\n')\n",
    "box1.delete('1.0','3.0')\n",
    "box1.pack()\n",
    "root.mainloop()\n",
    "#This deletes everything from the beginning of line 1 to the beginning of line 2 \n",
    "#hence 'awesome\\n' and 'hi again\\n' gets deleted"
   ]
  },
  {
   "cell_type": "markdown",
   "metadata": {},
   "source": [
    "We can use named index such as the 'end' keyword"
   ]
  },
  {
   "cell_type": "code",
   "execution_count": 99,
   "metadata": {},
   "outputs": [],
   "source": [
    "root = tkinter.Tk()\n",
    "box1 = Text(root,height=10,width=30)\n",
    "box1.insert('1.0','awesome\\n')\n",
    "box1.insert('3.0','bye\\n')\n",
    "box1.insert('2.0','hi again\\n')\n",
    "box1.delete('1.0','end')\n",
    "box1.pack()\n",
    "root.mainloop()\n",
    "#the above code deletes everything from the beginning of the first line to the end\n"
   ]
  },
  {
   "cell_type": "markdown",
   "metadata": {},
   "source": [
    "### Costomizing the text box"
   ]
  },
  {
   "cell_type": "markdown",
   "metadata": {},
   "source": [
    "You can change the background and foreground colour using keyword arguments <b>bg</b> and <b>fg</b>"
   ]
  },
  {
   "cell_type": "code",
   "execution_count": 104,
   "metadata": {},
   "outputs": [],
   "source": [
    "root = tkinter.Tk()\n",
    "box1 = Text(root,height=10,width=30,bg='blue',fg='white')\n",
    "box1.insert('1.0','awesome\\n')\n",
    "box1.insert('3.0','bye\\n')\n",
    "box1.insert('2.0','hi again\\n')\n",
    "box1.pack()\n",
    "root.mainloop()"
   ]
  },
  {
   "cell_type": "markdown",
   "metadata": {},
   "source": [
    "### Using the config() function"
   ]
  },
  {
   "cell_type": "markdown",
   "metadata": {},
   "source": [
    "In order to change or pass new values to the arguments of your widget object we use the .congif() method to update it. This can be used on any widget."
   ]
  },
  {
   "cell_type": "markdown",
   "metadata": {},
   "source": [
    "### Changing the state of the text box"
   ]
  },
  {
   "cell_type": "markdown",
   "metadata": {},
   "source": [
    "If the <b> state </b> of the text box is <b>'normal'</b> its contents can be changing using the insert and delete function as well as by the user. \n",
    "If the <b> state </b> is <b>'disable'</b> then its contents cannot be altered. We can set the state of the text box during object creation as well as modify the state using .config method duirng the program"
   ]
  },
  {
   "cell_type": "code",
   "execution_count": 110,
   "metadata": {},
   "outputs": [],
   "source": [
    "# creating the initial text box, by default the state of the widget is set to 'normal'\n",
    "root = tkinter.Tk()\n",
    "box1 = Text(root,height=10,width=30,bg='blue',fg='white')\n",
    "box1.insert('1.0','awesome\\n')\n",
    "box1.insert('3.0','bye\\n')\n",
    "box1.insert('2.0','hi again\\n')\n",
    "box1.pack()\n",
    "\n",
    "#changing the state to 'disable' using config method\n",
    "box1.config(state='disable')\n",
    "\n",
    "#trying to delete and insert text but no changed are seen\n",
    "box1.delete('1.0','end')\n",
    "box1.insert('end','how are you?')\n",
    "\n",
    "#changing the state back to 'normal'\n",
    "box1.config(state='normal')\n",
    "\n",
    "#Adding text after changing the state to 'normal', this string is successfully appended \n",
    "box1.insert('end','today is amazing\\n')\n",
    "\n",
    "root.mainloop()\n",
    "#This thus changes the colours of the text box. "
   ]
  },
  {
   "cell_type": "markdown",
   "metadata": {},
   "source": [
    "Resource / more information: https://effbot.org/tkinterbook/text.htm"
   ]
  },
  {
   "cell_type": "code",
   "execution_count": null,
   "metadata": {},
   "outputs": [],
   "source": []
  }
 ],
 "metadata": {
  "kernelspec": {
   "display_name": "Python 3",
   "language": "python",
   "name": "python3"
  },
  "language_info": {
   "codemirror_mode": {
    "name": "ipython",
    "version": 3
   },
   "file_extension": ".py",
   "mimetype": "text/x-python",
   "name": "python",
   "nbconvert_exporter": "python",
   "pygments_lexer": "ipython3",
   "version": "3.6.7"
  }
 },
 "nbformat": 4,
 "nbformat_minor": 2
}
